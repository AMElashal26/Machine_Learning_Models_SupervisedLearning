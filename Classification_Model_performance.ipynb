{
  "nbformat": 4,
  "nbformat_minor": 0,
  "metadata": {
    "colab": {
      "name": "Classification Model performance.ipynb",
      "provenance": [],
      "authorship_tag": "ABX9TyORZLcQPNf+WZUCedMH6qRz",
      "include_colab_link": true
    },
    "kernelspec": {
      "name": "python3",
      "display_name": "Python 3"
    }
  },
  "cells": [
    {
      "cell_type": "markdown",
      "metadata": {
        "id": "view-in-github",
        "colab_type": "text"
      },
      "source": [
        "<a href=\"https://colab.research.google.com/github/AMElashal26/Machine_Learning_Models_SupervisedLearning/blob/main/Classification_Model_performance.ipynb\" target=\"_parent\"><img src=\"https://colab.research.google.com/assets/colab-badge.svg\" alt=\"Open In Colab\"/></a>"
      ]
    },
    {
      "cell_type": "code",
      "metadata": {
        "id": "9KCn8hgYjTUt"
      },
      "source": [
        "import matplotlib.pyplot as plt\n",
        "import numpy as np\n",
        "import pandas as pd\n",
        "import seaborn as sns\n",
        "from sklearn.linear_model import LogisticRegression\n",
        "from sklearn.model_selection import train_test_split, cross_val_score\n",
        "from sklearn.dummy import DummyClassifier\n",
        "from sklearn.metrics import confusion_matrix\n",
        "from sklearn.utils.multiclass import unique_labels\n",
        "from sklearn.metrics import accuracy_score, precision_score, recall_score, f1_score, fbeta_score, classification_report\n",
        "from sklearn.metrics import roc_curve, precision_recall_curve, roc_auc_score\n",
        "from sklearn.preprocessing import StandardScaler\n",
        "from sklearn.neighbors import KNeighborsClassifier\n",
        "from sklearn.ensemble import RandomForestClassifier"
      ],
      "execution_count": null,
      "outputs": []
    },
    {
      "cell_type": "code",
      "metadata": {
        "id": "MXUy5LSDkYts",
        "colab": {
          "base_uri": "https://localhost:8080/"
        },
        "outputId": "606900e3-3b6d-417e-b0ce-21d474fb7e01"
      },
      "source": [
        "df_train_data = pd.read_csv('http://archive.ics.uci.edu/ml/machine-learning-databases/statlog/shuttle/shuttle.tst', header=None, sep=' ')\n",
        "\n",
        "df_train_data.loc[df_train_data[9] != 4, 9] = 0\n",
        "df_train_data.loc[df_train_data[9] == 4, 9] = 1\n",
        "\n",
        "X = df_train_data.drop([9], axis=1)\n",
        "\n",
        "y = df_train_data[9]\n",
        "X_train, X_test, y_train, y_test = train_test_split(X, y)\n",
        "\n",
        "print('There are {:d} training samples and {:d} test samples'.format(X_train.shape[0], X_test.shape[0]))"
      ],
      "execution_count": null,
      "outputs": [
        {
          "output_type": "stream",
          "text": [
            "There are 10875 training samples and 3625 test samples\n"
          ],
          "name": "stdout"
        }
      ]
    },
    {
      "cell_type": "code",
      "metadata": {
        "id": "Wf629JV_ke02",
        "colab": {
          "base_uri": "https://localhost:8080/"
        },
        "outputId": "271d4532-7269-464f-c937-add7a9ff33d3"
      },
      "source": [
        "lr = LogisticRegression(solver='lbfgs', penalty='none', max_iter=1000)\n",
        "lr.fit(X_train, y_train)"
      ],
      "execution_count": null,
      "outputs": [
        {
          "output_type": "execute_result",
          "data": {
            "text/plain": [
              "LogisticRegression(C=1.0, class_weight=None, dual=False, fit_intercept=True,\n",
              "                   intercept_scaling=1, l1_ratio=None, max_iter=1000,\n",
              "                   multi_class='auto', n_jobs=None, penalty='none',\n",
              "                   random_state=None, solver='lbfgs', tol=0.0001, verbose=0,\n",
              "                   warm_start=False)"
            ]
          },
          "metadata": {
            "tags": []
          },
          "execution_count": 3
        }
      ]
    },
    {
      "cell_type": "code",
      "metadata": {
        "id": "cs4YMBAxqYQb",
        "colab": {
          "base_uri": "https://localhost:8080/"
        },
        "outputId": "b54c9047-4e63-40c5-e72a-8033d01927e8"
      },
      "source": [
        "\n",
        "lr_score = lr.score(X_test, y_test)\n",
        "\n",
        "print('Accuracy of Logistic Regression: {:.3f}'.format(lr_score))"
      ],
      "execution_count": null,
      "outputs": [
        {
          "output_type": "stream",
          "text": [
            "Accuracy of Logistic Regression: 0.828\n"
          ],
          "name": "stdout"
        }
      ]
    },
    {
      "cell_type": "code",
      "metadata": {
        "id": "ZiaYvB-Dqb3W",
        "colab": {
          "base_uri": "https://localhost:8080/"
        },
        "outputId": "ca6dccdc-528b-41fa-9ca5-f78e5da2a1cb"
      },
      "source": [
        "dummy = DummyClassifier(strategy = 'uniform')\n",
        "dummy.fit(X_train, y_train)\n",
        "dummy.score(X_test, y_test)"
      ],
      "execution_count": null,
      "outputs": [
        {
          "output_type": "execute_result",
          "data": {
            "text/plain": [
              "0.49903448275862067"
            ]
          },
          "metadata": {
            "tags": []
          },
          "execution_count": 5
        }
      ]
    },
    {
      "cell_type": "code",
      "metadata": {
        "id": "1xyz3PHJqgGK",
        "colab": {
          "base_uri": "https://localhost:8080/"
        },
        "outputId": "1046c6ee-09b3-4066-98ea-81bb6e60425f"
      },
      "source": [
        "predictions = lr.predict(X_test)\n",
        "\n",
        "confusion = confusion_matrix(y_test, predictions)\n",
        "print(confusion)"
      ],
      "execution_count": null,
      "outputs": [
        {
          "output_type": "stream",
          "text": [
            "[[2970  111]\n",
            " [ 512   32]]\n"
          ],
          "name": "stdout"
        }
      ]
    },
    {
      "cell_type": "code",
      "metadata": {
        "id": "gTl5SsSXql2o",
        "colab": {
          "base_uri": "https://localhost:8080/",
          "height": 467
        },
        "outputId": "4473873b-f11b-47a7-a41f-c63d4c7fd903"
      },
      "source": [
        "def plot_confusion_matrix(cm,\n",
        "                          target_names,\n",
        "                          title='Confusion matrix',\n",
        "                          cmap=None,\n",
        "                          normalize=True):\n",
        "    \"\"\"\n",
        "    given a sklearn confusion matrix (cm), make a nice plot\n",
        "\n",
        "    Arguments\n",
        "    ---------\n",
        "    cm:           confusion matrix from sklearn.metrics.confusion_matrix\n",
        "\n",
        "    target_names: given classification classes such as [0, 1, 2]\n",
        "                  the class names, for example: ['high', 'medium', 'low']\n",
        "\n",
        "    title:        the text to display at the top of the matrix\n",
        "\n",
        "    cmap:         the gradient of the values displayed from matplotlib.pyplot.cm\n",
        "                  see http://matplotlib.org/examples/color/colormaps_reference.html\n",
        "                  plt.get_cmap('jet') or plt.cm.Blues\n",
        "\n",
        "    normalize:    If False, plot the raw numbers\n",
        "                  If True, plot the proportions\n",
        "\n",
        "    Usage\n",
        "    -----\n",
        "    plot_confusion_matrix(cm           = cm,                  # confusion matrix created by\n",
        "                                                              # sklearn.metrics.confusion_matrix\n",
        "                          normalize    = True,                # show proportions\n",
        "                          target_names = y_labels_vals,       # list of names of the classes\n",
        "                          title        = best_estimator_name) # title of graph\n",
        "\n",
        "    Citiation\n",
        "    ---------\n",
        "    http://scikit-learn.org/stable/auto_examples/model_selection/plot_confusion_matrix.html\n",
        "\n",
        "    \"\"\"\n",
        "    import matplotlib.pyplot as plt\n",
        "    import numpy as np\n",
        "    import itertools\n",
        "\n",
        "    accuracy = np.trace(cm) / float(np.sum(cm))\n",
        "    misclass = 1 - accuracy\n",
        "\n",
        "    if cmap is None:\n",
        "        cmap = plt.get_cmap('Blues')\n",
        "\n",
        "    plt.figure(figsize=(8, 6))\n",
        "    plt.imshow(cm, interpolation='nearest', cmap=cmap)\n",
        "    plt.title(title)\n",
        "    plt.colorbar()\n",
        "\n",
        "    if target_names is not None:\n",
        "        tick_marks = np.arange(len(target_names))\n",
        "        plt.xticks(tick_marks, target_names, rotation=45)\n",
        "        plt.yticks(tick_marks, target_names)\n",
        "\n",
        "    if normalize:\n",
        "        cm = cm.astype('float') / cm.sum(axis=1)[:, np.newaxis]\n",
        "\n",
        "\n",
        "    thresh = cm.max() / 1.5 if normalize else cm.max() / 2\n",
        "    for i, j in itertools.product(range(cm.shape[0]), range(cm.shape[1])):\n",
        "        if normalize:\n",
        "            plt.text(j, i, \"{:0.4f}\".format(cm[i, j]),\n",
        "                     horizontalalignment=\"center\",\n",
        "                     color=\"white\" if cm[i, j] > thresh else \"black\")\n",
        "        else:\n",
        "            plt.text(j, i, \"{:,}\".format(cm[i, j]),\n",
        "                     horizontalalignment=\"center\",\n",
        "                     color=\"white\" if cm[i, j] > thresh else \"black\")\n",
        "\n",
        "\n",
        "    plt.tight_layout()\n",
        "    plt.ylabel('Predicted label')\n",
        "    plt.xlabel('True label\\naccuracy={:0.4f}; misclass={:0.4f}'.format(accuracy, misclass))\n",
        "    plt.show()\n",
        "\n",
        "plot_confusion_matrix(cm=confusion, target_names = ['Positive', 'Negative'], title = 'Confusion Matrix',normalize=False)\n"
      ],
      "execution_count": null,
      "outputs": [
        {
          "output_type": "display_data",
          "data": {
            "image/png": "[encoded data removed]",
            "text/plain": [
              "<Figure size 576x432 with 2 Axes>"
            ]
          },
          "metadata": {
            "tags": [],
            "needs_background": "light"
          }
        }
      ]
    },
    {
      "cell_type": "code",
      "metadata": {
        "id": "tklVcgSBq3fX",
        "colab": {
          "base_uri": "https://localhost:8080/"
        },
        "outputId": "74ddd5cf-ea19-41dd-b2a4-aee73db8ed32"
      },
      "source": [
        "accuracy = accuracy_score(y_test, predictions)\n",
        "precision = precision_score(y_test, predictions)\n",
        "recall = recall_score(y_test, predictions)\n",
        "f1 = f1_score(y_test, predictions)\n",
        "fbeta_precision = fbeta_score(y_test, predictions, 0.5)\n",
        "fbeta_recall = fbeta_score(y_test, predictions, 2)\n",
        "\n",
        "print('Accuracy score: {:.2f}'.format(accuracy))\n",
        "print('Precision score: {:.2f}'.format(precision))\n",
        "print('Recall score: {:.2f}'.format(recall))\n",
        "print('F1 score: {:.2f}'.format(f1))\n",
        "print('Fbeta score favoring precision: {:.2f}'.format(fbeta_precision))\n",
        "print('FBeta score favoring recall: {:.2f}'.format(fbeta_recall))"
      ],
      "execution_count": null,
      "outputs": [
        {
          "output_type": "stream",
          "text": [
            "Accuracy score: 0.83\n",
            "Precision score: 0.22\n",
            "Recall score: 0.06\n",
            "F1 score: 0.09\n",
            "Fbeta score favoring precision: 0.14\n",
            "FBeta score favoring recall: 0.07\n"
          ],
          "name": "stdout"
        }
      ]
    },
    {
      "cell_type": "code",
      "metadata": {
        "id": "iOS3engdq_KE",
        "colab": {
          "base_uri": "https://localhost:8080/"
        },
        "outputId": "2bd68f82-0e28-4401-e23f-f361e29b8f04"
      },
      "source": [
        "accuracy = accuracy_score(y_test, predictions)\n",
        "precision = precision_score(y_test, predictions)\n",
        "recall = recall_score(y_test, predictions)\n",
        "f1 = f1_score(y_test, predictions)\n",
        "fbeta_precision = fbeta_score(y_test, predictions, 0.5)\n",
        "fbeta_recall = fbeta_score(y_test, predictions, 2)\n",
        "\n",
        "print('Accuracy score: {:.2f}'.format(accuracy))\n",
        "print('Precision score: {:.2f}'.format(precision))\n",
        "print('Recall score: {:.2f}'.format(recall))\n",
        "print('F1 score: {:.2f}'.format(f1))\n",
        "print('Fbeta score favoring precision: {:.2f}'.format(fbeta_precision))\n",
        "print('FBeta score favoring recall: {:.2f}'.format(fbeta_recall))\n",
        "print(classification_report(y_test, predictions, target_names=['Negative', 'Positive']))\n"
      ],
      "execution_count": null,
      "outputs": [
        {
          "output_type": "stream",
          "text": [
            "Accuracy score: 0.83\n",
            "Precision score: 0.22\n",
            "Recall score: 0.06\n",
            "F1 score: 0.09\n",
            "Fbeta score favoring precision: 0.14\n",
            "FBeta score favoring recall: 0.07\n",
            "              precision    recall  f1-score   support\n",
            "\n",
            "    Negative       0.85      0.96      0.91      3081\n",
            "    Positive       0.22      0.06      0.09       544\n",
            "\n",
            "    accuracy                           0.83      3625\n",
            "   macro avg       0.54      0.51      0.50      3625\n",
            "weighted avg       0.76      0.83      0.78      3625\n",
            "\n"
          ],
          "name": "stdout"
        }
      ]
    },
    {
      "cell_type": "code",
      "metadata": {
        "id": "v3MlDpWyrSZe",
        "colab": {
          "base_uri": "https://localhost:8080/",
          "height": 421
        },
        "outputId": "5d10b144-b4b2-4bb2-94fa-8d08641e99e2"
      },
      "source": [
        "probs = lr.predict_proba(X_test)[:, 1]\n",
        "fpr, tpr, thresholds = roc_curve(y_test, probs)\n",
        "fig = plt.figure(figsize = (6, 6))\n",
        "plt.plot([0, 1], [0, 1], 'k--')\n",
        "plt.plot(fpr, tpr)\n",
        "plt.xlabel('False Positive Rate')\n",
        "plt.ylabel('True Positive Rate')\n",
        "plt.title('ROC curve for Logistic Regression Model')\n",
        "plt.show()\n",
        "\n",
        "auc = roc_auc_score(y_test, probs)\n",
        "print('Area under the ROC curve: {:.3f}'.format(auc))\n"
      ],
      "execution_count": null,
      "outputs": [
        {
          "output_type": "display_data",
          "data": {
            "image/png": "[encoded data removed]",
            "text/plain": [
              "<Figure size 432x432 with 1 Axes>"
            ]
          },
          "metadata": {
            "tags": [],
            "needs_background": "light"
          }
        },
        {
          "output_type": "stream",
          "text": [
            "Area under the ROC curve: 0.850\n"
          ],
          "name": "stdout"
        }
      ]
    },
    {
      "cell_type": "code",
      "metadata": {
        "id": "MlV-xYYruLee",
        "colab": {
          "base_uri": "https://localhost:8080/",
          "height": 404
        },
        "outputId": "5e3123c8-1e16-4eb1-e1b0-6be259a040b6"
      },
      "source": [
        "pres, rec, thresholds = precision_recall_curve(y_test, predictions)\n",
        "fig = plt.figure(figsize = (6, 6))\n",
        "plt.plot(rec, pres)\n",
        "plt.xlabel('Recall')\n",
        "plt.ylabel('Precision')\n",
        "plt.title('Precision-Recall Curve')\n",
        "plt.show()"
      ],
      "execution_count": null,
      "outputs": [
        {
          "output_type": "display_data",
          "data": {
            "image/png": "[encoded data removed]",
            "text/plain": [
              "<Figure size 432x432 with 1 Axes>"
            ]
          },
          "metadata": {
            "tags": [],
            "needs_background": "light"
          }
        }
      ]
    },
    {
      "cell_type": "code",
      "metadata": {
        "id": "ME4XOaQVuQG0",
        "colab": {
          "base_uri": "https://localhost:8080/",
          "height": 295
        },
        "outputId": "29ed6b42-4f33-450d-9245-711544787676"
      },
      "source": [
        "c_vals = np.arange(0.05, 1.5, 0.05)\n",
        "test_accuracy = []\n",
        "train_accuracy = []\n",
        "\n",
        "for c in c_vals:\n",
        "  lr = LogisticRegression(solver='lbfgs', penalty='l2', C=c, max_iter=1000)\n",
        "  lr.fit(X_train, y_train)\n",
        "  test_accuracy.append(lr.score(X_test, y_test))\n",
        "  train_accuracy.append(lr.score(X_train, y_train))\n",
        "\n",
        "fig = plt.figure(figsize=(8, 4))\n",
        "ax1 = fig.add_subplot(1, 1, 1)\n",
        "ax1.plot(c_vals, test_accuracy, '-g', label='Test Accuracy')\n",
        "ax1.plot(c_vals, train_accuracy, '-b', label='Train Accuracy')\n",
        "ax1.set(xlabel='C', ylabel='Accuracy')\n",
        "ax1.set_title('Effect of C on Accuracy')\n",
        "ax1.legend()\n",
        "plt.show()"
      ],
      "execution_count": null,
      "outputs": [
        {
          "output_type": "display_data",
          "data": {
            "image/png": "[encoded data removed]",
            "text/plain": [
              "<Figure size 576x288 with 1 Axes>"
            ]
          },
          "metadata": {
            "tags": [],
            "needs_background": "light"
          }
        }
      ]
    },
    {
      "cell_type": "code",
      "metadata": {
        "id": "jYGV1CMYuWp9",
        "colab": {
          "base_uri": "https://localhost:8080/"
        },
        "outputId": "24872e71-207e-4f0b-e6c4-e57394639a75"
      },
      "source": [
        "clf = LogisticRegression(solver='lbfgs', max_iter=1000)\n",
        "cv_scores = cross_val_score(clf, X_train, y_train, cv = 5)\n",
        "\n",
        "print('Accuracy scores for the 5 folds: ', cv_scores)\n",
        "print('Mean cross validation score: {:.3f}'.format(np.mean(cv_scores)))"
      ],
      "execution_count": null,
      "outputs": [
        {
          "output_type": "stream",
          "text": [
            "Accuracy scores for the 5 folds:  [0.82390805 0.82758621 0.8183908  0.81977011 0.83034483]\n",
            "Mean cross validation score: 0.824\n"
          ],
          "name": "stdout"
        }
      ]
    },
    {
      "cell_type": "code",
      "metadata": {
        "id": "Z3WZXPhkuhRG",
        "colab": {
          "base_uri": "https://localhost:8080/"
        },
        "outputId": "53b0c93f-8dfa-4e55-db28-6573f6f93e68"
      },
      "source": [
        "knn = KNeighborsClassifier(n_neighbors=7)\n",
        "\n",
        "# Then  fit the model\n",
        "knn.fit(X_train, y_train)\n",
        "\n",
        "# How well did we do\n",
        "knn_7_score = knn.score(X_test, y_test)\n",
        "\n",
        "print('Accuracy of KNN (k = 7): {:.3f}'.format(knn_7_score))\n"
      ],
      "execution_count": null,
      "outputs": [
        {
          "output_type": "stream",
          "text": [
            "Accuracy of KNN (k = 7): 0.997\n"
          ],
          "name": "stdout"
        }
      ]
    },
    {
      "cell_type": "code",
      "metadata": {
        "id": "Ja8wW-sNu2vi",
        "colab": {
          "base_uri": "https://localhost:8080/"
        },
        "outputId": "9879a26c-bba7-4fa7-a3ce-2f7a1d40b43e"
      },
      "source": [
        "rf = RandomForestClassifier(n_estimators = 22, random_state = 40)\n",
        "\n",
        "rf.fit(X_train,y_train)\n",
        "\n",
        "rf_score = rf.score(X_test, y_test)\n",
        "\n",
        "print('Accuracy of Random Forest: {:.3f}'.format(rf_score))"
      ],
      "execution_count": null,
      "outputs": [
        {
          "output_type": "stream",
          "text": [
            "Accuracy of Random Forest: 1.000\n"
          ],
          "name": "stdout"
        }
      ]
    },
    {
      "cell_type": "code",
      "metadata": {
        "id": "u3aqY9cgu8AC"
      },
      "source": [
        ""
      ],
      "execution_count": null,
      "outputs": []
    }
  ]
}