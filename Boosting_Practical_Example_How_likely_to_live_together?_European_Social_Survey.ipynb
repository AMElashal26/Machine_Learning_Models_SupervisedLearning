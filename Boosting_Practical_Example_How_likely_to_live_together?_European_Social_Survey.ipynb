{
  "nbformat": 4,
  "nbformat_minor": 0,
  "metadata": {
    "colab": {
      "name": "Boosting Practical Example: How likely to live together? European Social Survey.ipynb",
      "provenance": [],
      "authorship_tag": "ABX9TyOOY8w3ohJHcxBgZZpSHV0G",
      "include_colab_link": true
    },
    "kernelspec": {
      "name": "python3",
      "display_name": "Python 3"
    }
  },
  "cells": [
    {
      "cell_type": "markdown",
      "metadata": {
        "id": "view-in-github",
        "colab_type": "text"
      },
      "source": [
        "<a href=\"https://colab.research.google.com/github/AMElashal26/Machine_Learning_Models_SupervisedLearning/blob/main/Boosting_Practical_Example_How_likely_to_live_together%3F_European_Social_Survey.ipynb\" target=\"_parent\"><img src=\"https://colab.research.google.com/assets/colab-badge.svg\" alt=\"Open In Colab\"/></a>"
      ]
    },
    {
      "cell_type": "code",
      "metadata": {
        "id": "Q2HW7nEo04cv"
      },
      "source": [
        "import itertools\n",
        "import pandas as pd\n",
        "import numpy as np\n",
        "import matplotlib.pyplot as plt\n",
        "%matplotlib inline\n",
        "\n",
        "from sklearn.metrics import confusion_matrix, precision_score, recall_score\n",
        "from sklearn import ensemble"
      ],
      "execution_count": null,
      "outputs": []
    },
    {
      "cell_type": "code",
      "metadata": {
        "id": "ohCZ25vX1G7y"
      },
      "source": [
        "df = pd.read_csv((\n",
        "    \"https://raw.githubusercontent.com/Thinkful-Ed/data-201-resources/\"\n",
        "    \"master/ESS_practice_data/ESSdata_Thinkful.csv\")).dropna()\n",
        "\n",
        "# Define outcome and predictors.\n",
        "# Set the outcomes to `0` and `1`.\n",
        "y = df['partner'] - 1\n",
        "X = df.loc[:, ~df.columns.isin(['partner', 'cntry', 'idno'])]\n",
        "\n",
        "# Make the categorical variable `country` into dummies.\n",
        "X = pd.concat([X, pd.get_dummies(df['cntry'])], axis=1)\n",
        "\n",
        "# Create training and test sets.\n",
        "offset = int(X.shape[0] * 0.8)\n",
        "\n",
        "# Put 80% of the data in the training set.\n",
        "X_train, y_train = X[:offset], y[:offset]\n",
        "\n",
        "# And put 20% in the test set.\n",
        "X_test, y_test = X[offset:], y[offset:]"
      ],
      "execution_count": null,
      "outputs": []
    },
    {
      "cell_type": "code",
      "metadata": {
        "id": "KZCJZWwB1H4W"
      },
      "source": [
        "\n",
        "# It's best to update this table for the drill \n",
        "# at the end of the checkpoint.\n",
        "\n",
        "#Update: Higher % subsampling and median learning rate leads to minor improvements.\n",
        "#Increasing number of estimators does as well, whereas increasing the max depth of decision trees is not to our benefit\n",
        "params = {'n_estimators': 510,\n",
        "          'max_depth': 2,\n",
        "          'loss': 'deviance',\n",
        "          'subsample': .95,\n",
        "          'learning_rate': 0.55}\n",
        "\n",
        "# Initialize and fit the model.\n",
        "clf = ensemble.GradientBoostingClassifier(**params)\n",
        "clf.fit(X_train, y_train)\n",
        "\n",
        "predict_train = clf.predict(X_train)\n",
        "predict_test = clf.predict(X_test)"
      ],
      "execution_count": null,
      "outputs": []
    },
    {
      "cell_type": "code",
      "metadata": {
        "id": "SeCVp_d31NQN"
      },
      "source": [
        "def plot_confusion_matrix(cm, classes,normalize,\n",
        "                          title='Confusion matrix',\n",
        "                          cmap=plt.cm.Blues):\n",
        "    \"\"\"\n",
        "    This function prints and plots the confusion matrix.\n",
        "    Normalization can be applied by setting `normalize=True`.\n",
        "    \"\"\"\n",
        "    if normalize:\n",
        "        cm = cm.astype('float') / cm.sum(axis=1)[:, np.newaxis]\n",
        "        print(\"Normalized confusion matrix\")\n",
        "    else:\n",
        "        print('Confusion matrix, without normalization')\n",
        "\n",
        "    plt.imshow(cm, interpolation='nearest', cmap=cmap)\n",
        "    plt.title(title)\n",
        "    plt.colorbar()\n",
        "    tick_marks = np.arange(len(classes))\n",
        "    plt.xticks(tick_marks, classes)\n",
        "    plt.yticks(tick_marks, classes)\n",
        "    fmt = '.2f' if normalize else 'd'\n",
        "    thresh = cm.max() / 2.\n",
        "    for i, j in itertools.product(range(cm.shape[0]), range(cm.shape[1])):\n",
        "        plt.text(j, i, format(cm[i, j], fmt),\n",
        "                 horizontalalignment=\"center\", verticalalignment=\"center\",\n",
        "                 color=\"white\" if cm[i, j] > thresh else \"black\")\n",
        "    plt.ylabel('True label')\n",
        "    plt.xlabel('Predicted label')"
      ],
      "execution_count": null,
      "outputs": []
    },
    {
      "cell_type": "code",
      "metadata": {
        "colab": {
          "base_uri": "https://localhost:8080/",
          "height": 312
        },
        "id": "zxxrfx671STV",
        "outputId": "238072a1-e16d-4423-96ee-0f9c64691ffa"
      },
      "source": [
        "cm = confusion_matrix(y_test, predict_test)\n",
        "plot_confusion_matrix(cm,[0,1],False)"
      ],
      "execution_count": null,
      "outputs": [
        {
          "output_type": "stream",
          "text": [
            "Confusion matrix, without normalization\n"
          ],
          "name": "stdout"
        },
        {
          "output_type": "display_data",
          "data": {
            "image/png": "[encoded data removed]",
            "text/plain": [
              "<Figure size 432x288 with 2 Axes>"
            ]
          },
          "metadata": {
            "tags": [],
            "needs_background": "light"
          }
        }
      ]
    },
    {
      "cell_type": "code",
      "metadata": {
        "colab": {
          "base_uri": "https://localhost:8080/",
          "height": 312
        },
        "id": "HsT-M8oZ1TaE",
        "outputId": "fc7476f6-9dcc-47c6-e68c-635cf46b7a4c"
      },
      "source": [
        "cm = confusion_matrix(y_test, predict_test)\n",
        "plot_confusion_matrix(cm,[0,1],True)"
      ],
      "execution_count": null,
      "outputs": [
        {
          "output_type": "stream",
          "text": [
            "Normalized confusion matrix\n"
          ],
          "name": "stdout"
        },
        {
          "output_type": "display_data",
          "data": {
            "image/png": "[encoded data removed]",
            "text/plain": [
              "<Figure size 432x288 with 2 Axes>"
            ]
          },
          "metadata": {
            "tags": [],
            "needs_background": "light"
          }
        }
      ]
    },
    {
      "cell_type": "code",
      "metadata": {
        "colab": {
          "base_uri": "https://localhost:8080/"
        },
        "id": "v1X235v01VSM",
        "outputId": "5a67922a-8c7c-480c-b3d3-cd528634d558"
      },
      "source": [
        "clf.score(X_test, y_test)"
      ],
      "execution_count": null,
      "outputs": [
        {
          "output_type": "execute_result",
          "data": {
            "text/plain": [
              "0.7466257668711657"
            ]
          },
          "metadata": {
            "tags": []
          },
          "execution_count": 49
        }
      ]
    },
    {
      "cell_type": "code",
      "metadata": {
        "colab": {
          "base_uri": "https://localhost:8080/"
        },
        "id": "U6WEj0F_1XC7",
        "outputId": "1616cdc9-f1bc-4b24-ba4e-9889c9a39b51"
      },
      "source": [
        "y_pred = clf.predict(X_test)\n",
        "precision_score(y_test,y_pred)"
      ],
      "execution_count": null,
      "outputs": [
        {
          "output_type": "execute_result",
          "data": {
            "text/plain": [
              "0.7410714285714286"
            ]
          },
          "metadata": {
            "tags": []
          },
          "execution_count": 50
        }
      ]
    },
    {
      "cell_type": "code",
      "metadata": {
        "colab": {
          "base_uri": "https://localhost:8080/"
        },
        "id": "dk1abfI51Yhd",
        "outputId": "aad2f916-f08b-485c-9b16-520d5ef4b25d"
      },
      "source": [
        "recall_score(y_test,y_pred)"
      ],
      "execution_count": null,
      "outputs": [
        {
          "output_type": "execute_result",
          "data": {
            "text/plain": [
              "0.5850556438791733"
            ]
          },
          "metadata": {
            "tags": []
          },
          "execution_count": 29
        }
      ]
    },
    {
      "cell_type": "code",
      "metadata": {
        "colab": {
          "base_uri": "https://localhost:8080/",
          "height": 295
        },
        "id": "ucrL5mR31dMm",
        "outputId": "2cba6758-07b5-4f43-cb54-a79a90fbcb97"
      },
      "source": [
        "feature_importance = clf.feature_importances_\n",
        "\n",
        "# Make importances relative to max importance.\n",
        "feature_importance = 100.0 * (feature_importance / feature_importance.max())\n",
        "sorted_idx = np.argsort(feature_importance)\n",
        "pos = np.arange(sorted_idx.shape[0]) + .5\n",
        "plt.subplot(1, 2, 2)\n",
        "plt.barh(pos, feature_importance[sorted_idx], align='center')\n",
        "plt.yticks(pos, X.columns[sorted_idx])\n",
        "plt.xlabel('Relative Importance')\n",
        "plt.title('Variable Importance')\n",
        "plt.show()"
      ],
      "execution_count": null,
      "outputs": [
        {
          "output_type": "display_data",
          "data": {
            "image/png": "[encoded data removed]",
            "text/plain": [
              "<Figure size 432x288 with 1 Axes>"
            ]
          },
          "metadata": {
            "tags": [],
            "needs_background": "light"
          }
        }
      ]
    },
    {
      "cell_type": "code",
      "metadata": {
        "id": "9Hclxg4y1gg6"
      },
      "source": [
        ""
      ],
      "execution_count": null,
      "outputs": []
    }
  ]
}